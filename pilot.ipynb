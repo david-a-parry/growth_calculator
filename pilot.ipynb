{
 "cells": [
  {
   "cell_type": "code",
   "execution_count": 1,
   "metadata": {},
   "outputs": [],
   "source": [
    "import pandas as pd\n",
    "import seaborn as sns\n",
    "import matplotlib.pyplot as plt\n",
    "import glob\n",
    "import os\n",
    "import numpy as np\n",
    "from collections import defaultdict\n",
    "%matplotlib inline"
   ]
  },
  {
   "cell_type": "code",
   "execution_count": 2,
   "metadata": {},
   "outputs": [
    {
     "data": {
      "text/plain": [
       "['data/height_UK_WHO_preterm.csv',\n",
       " 'data/weight_british_1990.csv',\n",
       " 'data/height_british_1990.csv',\n",
       " 'data/weight_UK_WHO_preterm.csv',\n",
       " 'data/ofc_british_1990.csv',\n",
       " 'data/bmi_british_1990.csv',\n",
       " 'data/ofc_UK_WHO_preterm.csv']"
      ]
     },
     "execution_count": 2,
     "metadata": {},
     "output_type": "execute_result"
    }
   ],
   "source": [
    "glob.glob(\"data/*csv\")"
   ]
  },
  {
   "cell_type": "code",
   "execution_count": 3,
   "metadata": {},
   "outputs": [],
   "source": [
    "measurements = defaultdict(dict)\n",
    "for dataset in ['british_1990', 'UK_WHO_preterm']:\n",
    "    for csv in glob.glob(\"data/*{}.csv\".format(dataset)):\n",
    "        msr = os.path.basename(csv).replace('_' + dataset + '.csv', '')\n",
    "        measurements[dataset][msr] = pd.read_csv(csv, sep='\\t')\n",
    "        measurements[dataset][msr]['Gender'] = measurements[dataset][msr]['Gender'].apply(\n",
    "            lambda x: 'male' if x == 1 else 'female')\n"
   ]
  },
  {
   "cell_type": "code",
   "execution_count": 4,
   "metadata": {},
   "outputs": [
    {
     "data": {
      "text/html": [
       "<div>\n",
       "<style scoped>\n",
       "    .dataframe tbody tr th:only-of-type {\n",
       "        vertical-align: middle;\n",
       "    }\n",
       "\n",
       "    .dataframe tbody tr th {\n",
       "        vertical-align: top;\n",
       "    }\n",
       "\n",
       "    .dataframe thead th {\n",
       "        text-align: right;\n",
       "    }\n",
       "</style>\n",
       "<table border=\"1\" class=\"dataframe\">\n",
       "  <thead>\n",
       "    <tr style=\"text-align: right;\">\n",
       "      <th></th>\n",
       "      <th>Age</th>\n",
       "      <th>L</th>\n",
       "      <th>M</th>\n",
       "      <th>S</th>\n",
       "      <th>Gender</th>\n",
       "    </tr>\n",
       "  </thead>\n",
       "  <tbody>\n",
       "    <tr>\n",
       "      <th>0</th>\n",
       "      <td>-0.134</td>\n",
       "      <td>1</td>\n",
       "      <td>45.05</td>\n",
       "      <td>0.04139</td>\n",
       "      <td>male</td>\n",
       "    </tr>\n",
       "    <tr>\n",
       "      <th>1</th>\n",
       "      <td>-0.115</td>\n",
       "      <td>1</td>\n",
       "      <td>45.91</td>\n",
       "      <td>0.04107</td>\n",
       "      <td>male</td>\n",
       "    </tr>\n",
       "    <tr>\n",
       "      <th>2</th>\n",
       "      <td>-0.096</td>\n",
       "      <td>1</td>\n",
       "      <td>46.76</td>\n",
       "      <td>0.04075</td>\n",
       "      <td>male</td>\n",
       "    </tr>\n",
       "    <tr>\n",
       "      <th>3</th>\n",
       "      <td>-0.077</td>\n",
       "      <td>1</td>\n",
       "      <td>47.62</td>\n",
       "      <td>0.04042</td>\n",
       "      <td>male</td>\n",
       "    </tr>\n",
       "    <tr>\n",
       "      <th>4</th>\n",
       "      <td>-0.057</td>\n",
       "      <td>1</td>\n",
       "      <td>48.48</td>\n",
       "      <td>0.04010</td>\n",
       "      <td>male</td>\n",
       "    </tr>\n",
       "    <tr>\n",
       "      <th>...</th>\n",
       "      <td>...</td>\n",
       "      <td>...</td>\n",
       "      <td>...</td>\n",
       "      <td>...</td>\n",
       "      <td>...</td>\n",
       "    </tr>\n",
       "    <tr>\n",
       "      <th>563</th>\n",
       "      <td>22.667</td>\n",
       "      <td>1</td>\n",
       "      <td>163.80</td>\n",
       "      <td>0.03681</td>\n",
       "      <td>female</td>\n",
       "    </tr>\n",
       "    <tr>\n",
       "      <th>564</th>\n",
       "      <td>22.750</td>\n",
       "      <td>1</td>\n",
       "      <td>163.80</td>\n",
       "      <td>0.03681</td>\n",
       "      <td>female</td>\n",
       "    </tr>\n",
       "    <tr>\n",
       "      <th>565</th>\n",
       "      <td>22.833</td>\n",
       "      <td>1</td>\n",
       "      <td>163.81</td>\n",
       "      <td>0.03681</td>\n",
       "      <td>female</td>\n",
       "    </tr>\n",
       "    <tr>\n",
       "      <th>566</th>\n",
       "      <td>22.917</td>\n",
       "      <td>1</td>\n",
       "      <td>163.82</td>\n",
       "      <td>0.03680</td>\n",
       "      <td>female</td>\n",
       "    </tr>\n",
       "    <tr>\n",
       "      <th>567</th>\n",
       "      <td>23.000</td>\n",
       "      <td>1</td>\n",
       "      <td>163.82</td>\n",
       "      <td>0.03680</td>\n",
       "      <td>female</td>\n",
       "    </tr>\n",
       "  </tbody>\n",
       "</table>\n",
       "<p>568 rows × 5 columns</p>\n",
       "</div>"
      ],
      "text/plain": [
       "        Age  L       M        S  Gender\n",
       "0    -0.134  1   45.05  0.04139    male\n",
       "1    -0.115  1   45.91  0.04107    male\n",
       "2    -0.096  1   46.76  0.04075    male\n",
       "3    -0.077  1   47.62  0.04042    male\n",
       "4    -0.057  1   48.48  0.04010    male\n",
       "..      ... ..     ...      ...     ...\n",
       "563  22.667  1  163.80  0.03681  female\n",
       "564  22.750  1  163.80  0.03681  female\n",
       "565  22.833  1  163.81  0.03681  female\n",
       "566  22.917  1  163.82  0.03680  female\n",
       "567  23.000  1  163.82  0.03680  female\n",
       "\n",
       "[568 rows x 5 columns]"
      ]
     },
     "execution_count": 4,
     "metadata": {},
     "output_type": "execute_result"
    }
   ],
   "source": [
    "measurements['british_1990']['height']"
   ]
  },
  {
   "cell_type": "code",
   "execution_count": 5,
   "metadata": {},
   "outputs": [
    {
     "data": {
      "text/plain": [
       "<matplotlib.axes._subplots.AxesSubplot at 0x7fabc15b30f0>"
      ]
     },
     "execution_count": 5,
     "metadata": {},
     "output_type": "execute_result"
    },
    {
     "data": {
      "image/png": "[encoded data removed]",
      "text/plain": [
       "<Figure size 432x288 with 1 Axes>"
      ]
     },
     "metadata": {
      "needs_background": "light"
     },
     "output_type": "display_data"
    }
   ],
   "source": [
    "sns.lineplot(data=measurements['british_1990']['ofc'], hue='Gender', x='Age', y='M')"
   ]
  },
  {
   "cell_type": "code",
   "execution_count": 6,
   "metadata": {},
   "outputs": [
    {
     "data": {
      "text/plain": [
       "<matplotlib.axes._subplots.AxesSubplot at 0x7fabbf4095f8>"
      ]
     },
     "execution_count": 6,
     "metadata": {},
     "output_type": "execute_result"
    },
    {
     "data": {
      "image/png": "[encoded data removed]",
      "text/plain": [
       "<Figure size 432x288 with 1 Axes>"
      ]
     },
     "metadata": {
      "needs_background": "light"
     },
     "output_type": "display_data"
    }
   ],
   "source": [
    "sns.lineplot(data=measurements['UK_WHO_preterm']['ofc'], hue='Gender', x='Age', y='M')"
   ]
  },
  {
   "cell_type": "code",
   "execution_count": 141,
   "metadata": {},
   "outputs": [],
   "source": [
    "unit_converter = {'days':   lambda x: x/365.25,\n",
    "                  'weeks':  lambda x: x/52.1429,\n",
    "                  'months': lambda x: x/12,\n",
    "                  'years':  lambda x: x,\n",
    "                 }\n",
    "\n",
    "def adjust_age(years, weeks_gestation, verbose=False):\n",
    "    if weeks_gestation < 40:\n",
    "        adjust = unit_converter['weeks'](40 - weeks_gestation)\n",
    "        if verbose:\n",
    "            print(\"Adjusting age by {} for {} weeks gestation\".format(\n",
    "                    adjust, weeks_gestation))\n",
    "        years -= adjust\n",
    "    return years\n",
    "    \n",
    "\n",
    "def calculate_zscore(measure, x, gender, age, weeks_gestation=40,\n",
    "                     dataset='british_1990',\n",
    "                     age_unit='years', return_nearest_age=False, verbose=False):\n",
    "    age = unit_converter[age_unit](age)\n",
    "    age = adjust_age(age, weeks_gestation, verbose=verbose)\n",
    "    gender = gender.lower()\n",
    "    df = measurements[dataset][measure]\n",
    "    row = df.iloc[np.abs(df[df.Gender == gender].Age - age).idxmin()]\n",
    "    z = (( x / row.M)**row.L - 1) / (row.S * row.L)\n",
    "    if verbose:\n",
    "        print(\"Using nearest age of {} for user provided age of {}\".format(row.Age, age))\n",
    "        print(\"Using {} dataset\".format(dataset))\n",
    "        print(\"Z-score for {} years old {} {} of {} = {}\".format(age, gender, measure, x, z))\n",
    "    if return_nearest_age:\n",
    "        return z, row.Age, age\n",
    "    return z\n",
    "\n",
    "def zscore_cohort(individuals, dataset='british_1990', default_age_unit='years'):\n",
    "    col_order = ['ID', 'weight', 'weight SD', 'ofc', 'ofc SD', 'height', 'height SD',\n",
    "                 'Gender', 'Provided_Age', \n",
    "                 'Provided_Age_Unit', 'Gestation', 'Age', 'Adjusted_age',\n",
    "                 'Nearest_age_weight', 'Nearest_age_ofc', 'Nearest_age_height']\n",
    "    results = defaultdict(list)\n",
    "    for i in range(len(individuals)):\n",
    "        for req in ['id', 'gender', 'age',]:\n",
    "            if req not in individuals[i]:\n",
    "                raise ValueError(\"Required field '{}' not available for individual {}\".format(req, i))\n",
    "        age_unit = individuals[i].get('age_unit', default_age_unit)\n",
    "        years = unit_converter[age_unit](individuals[i]['age'])\n",
    "        results['ID'].append(individuals[i]['id'])\n",
    "        results['Provided_Age'].append(individuals[i]['age'])\n",
    "        results['Provided_Age_Unit'].append(age_unit)\n",
    "        results['Age'].append(years)\n",
    "        results['Adjusted_age'].append(adjust_age(years, individuals[i].get('gestation', 40)))\n",
    "        results['Gender'].append(individuals[i]['gender'])\n",
    "        results['Gestation'].append(individuals[i].get('gestation', 40))\n",
    "        for m in ['weight', 'ofc', 'height']:\n",
    "            z, n, adj = None, None, unit_converter[age_unit](individuals[i]['age'])\n",
    "            if m in individuals[i]:\n",
    "                z, n, adj = calculate_zscore(measure=m,\n",
    "                                             x=individuals[i][m], \n",
    "                                             gender=individuals[i]['gender'],\n",
    "                                             weeks_gestation=individuals[i].get('gestation', 40),\n",
    "                                             age=individuals[i]['age'], \n",
    "                                             age_unit=age_unit,\n",
    "                                             dataset=dataset,\n",
    "                                             return_nearest_age=True)\n",
    "            results[m].append(individuals[i].get(m, None))\n",
    "            results[m + \" SD\"].append(z)\n",
    "            results['Nearest_age_{}'.format(m)].append(n)\n",
    "    df = pd.DataFrame.from_dict(results)\n",
    "    df = df[col_order]\n",
    "    return df"
   ]
  },
  {
   "cell_type": "code",
   "execution_count": 143,
   "metadata": {},
   "outputs": [
    {
     "name": "stdout",
     "output_type": "stream",
     "text": [
      "Using nearest age of -0.172 for user provided age of -0.17260259786087848\n",
      "Using british_1990 dataset\n",
      "Z-score for -0.17260259786087848 years old male weight of 0.926 = -2.756615443874826\n",
      "Using nearest age of -0.115 for user provided age of -0.11506839857391898\n",
      "Using british_1990 dataset\n",
      "Z-score for -0.11506839857391898 years old male height of 35 = -5.7861908603959735\n",
      "Using nearest age of -0.172 for user provided age of -0.17260259786087848\n",
      "Using british_1990 dataset\n",
      "Z-score for -0.17260259786087848 years old male ofc of 26.6 = -2.0110952355304574\n"
     ]
    },
    {
     "data": {
      "text/plain": [
       "-2.0110952355304574"
      ]
     },
     "execution_count": 143,
     "metadata": {},
     "output_type": "execute_result"
    }
   ],
   "source": [
    "calculate_zscore('weight', 0.926, 'Male', -9, age_unit='weeks', dataset='british_1990', verbose=True)\n",
    "calculate_zscore('height', 35, 'Male', -6, age_unit='weeks', dataset='british_1990', verbose=True)\n",
    "calculate_zscore('ofc', 26.6, 'Male', -9, age_unit='weeks', dataset='british_1990', verbose=True)"
   ]
  },
  {
   "cell_type": "code",
   "execution_count": 144,
   "metadata": {},
   "outputs": [
    {
     "name": "stdout",
     "output_type": "stream",
     "text": [
      "Adjusting age by 0.17260259786087848 for 31 weeks gestation\n",
      "Using nearest age of -0.172 for user provided age of -0.17260259786087848\n",
      "Using british_1990 dataset\n",
      "Z-score for -0.17260259786087848 years old male weight of 0.926 = -2.756615443874826\n",
      "Adjusting age by 0.17260259786087848 for 31 weeks gestation\n",
      "Using nearest age of -0.115 for user provided age of -0.11506839857391898\n",
      "Using british_1990 dataset\n",
      "Z-score for -0.11506839857391898 years old male height of 35 = -5.7861908603959735\n",
      "Adjusting age by 0.17260259786087848 for 31 weeks gestation\n",
      "Using nearest age of -0.172 for user provided age of -0.17260259786087848\n",
      "Using british_1990 dataset\n",
      "Z-score for -0.17260259786087848 years old male ofc of 26.6 = -2.0110952355304574\n"
     ]
    },
    {
     "data": {
      "text/plain": [
       "-2.0110952355304574"
      ]
     },
     "execution_count": 144,
     "metadata": {},
     "output_type": "execute_result"
    }
   ],
   "source": [
    "calculate_zscore('weight', 0.926, 'Male', 0, age_unit='weeks', weeks_gestation=31,\n",
    "                 dataset='british_1990', verbose=True)\n",
    "calculate_zscore('height', 35, 'Male', 3, age_unit='weeks', weeks_gestation=31,\n",
    "                 dataset='british_1990', verbose=True)\n",
    "calculate_zscore('ofc', 26.6, 'Male', 0, age_unit='weeks', weeks_gestation=31,\n",
    "                 dataset='british_1990', verbose=True)"
   ]
  },
  {
   "cell_type": "code",
   "execution_count": 128,
   "metadata": {},
   "outputs": [
    {
     "name": "stdout",
     "output_type": "stream",
     "text": [
      "Using nearest age of 18.0 for user provided age of 18\n",
      "Using british_1990 dataset\n",
      "Z-score for 18 years old male weight of 18.25 = -14.239794954580626\n",
      "Using nearest age of 18.0 for user provided age of 18\n",
      "Using british_1990 dataset\n",
      "Z-score for 18 years old male height of 109.9 = -9.585942360337782\n",
      "Using nearest age of 18.0 for user provided age of 18\n",
      "Using british_1990 dataset\n",
      "Z-score for 18 years old male ofc of 48.5 = -5.11489060264972\n"
     ]
    },
    {
     "data": {
      "text/plain": [
       "-5.11489060264972"
      ]
     },
     "execution_count": 128,
     "metadata": {},
     "output_type": "execute_result"
    }
   ],
   "source": [
    "calculate_zscore('weight', 18.25, 'Male', 18, dataset='british_1990', verbose=True)\n",
    "calculate_zscore('height', 109.9, 'Male', 18, dataset='british_1990', verbose=True)\n",
    "calculate_zscore('ofc', 48.5, 'Male', 18, dataset='british_1990', verbose=True)"
   ]
  },
  {
   "cell_type": "code",
   "execution_count": 129,
   "metadata": {},
   "outputs": [
    {
     "name": "stdout",
     "output_type": "stream",
     "text": [
      "Using nearest age of -0.192 for user provided age of -0.19178066428986498\n",
      "Using british_1990 dataset\n",
      "Z-score for -0.19178066428986498 years old female weight of 0.74 = -2.905970228315133\n",
      "Using nearest age of -0.192 for user provided age of -0.19178066428986498\n",
      "Using british_1990 dataset\n",
      "Z-score for -0.19178066428986498 years old female ofc of 25 = -2.3194760547990287\n",
      "Using nearest age of -0.134 for user provided age of -0.19178066428986498\n",
      "Using british_1990 dataset\n",
      "Z-score for -0.19178066428986498 years old female height of 34 = -6.047048788230979\n"
     ]
    },
    {
     "data": {
      "text/plain": [
       "-6.047048788230979"
      ]
     },
     "execution_count": 129,
     "metadata": {},
     "output_type": "execute_result"
    }
   ],
   "source": [
    "calculate_zscore('weight', 0.74, 'Female', -10, age_unit='weeks',dataset='british_1990', verbose=True)\n",
    "calculate_zscore('ofc', 25, 'Female', -10, age_unit='weeks',dataset='british_1990', verbose=True)\n",
    "calculate_zscore('height', 34, 'Female', -10, age_unit='weeks',dataset='british_1990', verbose=True)\n"
   ]
  },
  {
   "cell_type": "code",
   "execution_count": 130,
   "metadata": {},
   "outputs": [
    {
     "name": "stdout",
     "output_type": "stream",
     "text": [
      "Using nearest age of -0.191649555099247 for user provided age of -0.19178066428986498\n",
      "Using UK_WHO_preterm dataset\n",
      "Z-score for -0.19178066428986498 years old female weight of 0.74 = -2.3798957699137215\n",
      "Using nearest age of -0.191649555099247 for user provided age of -0.19178066428986498\n",
      "Using UK_WHO_preterm dataset\n",
      "Z-score for -0.19178066428986498 years old female ofc of 25 = -2.0575018824447757\n",
      "Using nearest age of -0.191649555099247 for user provided age of -0.19178066428986498\n",
      "Using UK_WHO_preterm dataset\n",
      "Z-score for -0.19178066428986498 years old female height of 34 = -2.337822449368135\n"
     ]
    },
    {
     "data": {
      "text/plain": [
       "-2.337822449368135"
      ]
     },
     "execution_count": 130,
     "metadata": {},
     "output_type": "execute_result"
    }
   ],
   "source": [
    "calculate_zscore('weight', 0.74, 'Female', -10, age_unit='weeks',dataset='UK_WHO_preterm', verbose=True)\n",
    "calculate_zscore('ofc', 25, 'Female', -10, age_unit='weeks',dataset='UK_WHO_preterm', verbose=True)\n",
    "calculate_zscore('height', 34, 'Female', -10, age_unit='weeks',dataset='UK_WHO_preterm', verbose=True)"
   ]
  },
  {
   "cell_type": "code",
   "execution_count": 131,
   "metadata": {},
   "outputs": [
    {
     "name": "stdout",
     "output_type": "stream",
     "text": [
      "Using nearest age of 0.16699999999999998 for user provided age of 0.15342453143189197\n",
      "Using british_1990 dataset\n",
      "Z-score for 0.15342453143189197 years old female weight of 1.88 = -6.819787110350214\n",
      "Using nearest age of 0.16699999999999998 for user provided age of 0.15342453143189197\n",
      "Using british_1990 dataset\n",
      "Z-score for 0.15342453143189197 years old female ofc of 30 = -7.41293629546379\n",
      "Using nearest age of 0.16699999999999998 for user provided age of 0.15342453143189197\n",
      "Using british_1990 dataset\n",
      "Z-score for 0.15342453143189197 years old female height of 40 = -8.494449070930305\n"
     ]
    },
    {
     "data": {
      "text/plain": [
       "-8.494449070930305"
      ]
     },
     "execution_count": 131,
     "metadata": {},
     "output_type": "execute_result"
    }
   ],
   "source": [
    "calculate_zscore('weight', 1.88, 'Female', 8, age_unit='weeks', dataset='british_1990', verbose=True)\n",
    "calculate_zscore('ofc', 30, 'Female', 8, age_unit='weeks', dataset='british_1990', verbose=True)\n",
    "calculate_zscore('height', 40, 'Female', 8, age_unit='weeks', dataset='british_1990', verbose=True)"
   ]
  },
  {
   "cell_type": "code",
   "execution_count": 132,
   "metadata": {},
   "outputs": [
    {
     "name": "stdout",
     "output_type": "stream",
     "text": [
      "Using nearest age of 1.9169999999999998 for user provided age of 1.9\n",
      "Using british_1990 dataset\n",
      "Z-score for 1.9 years old male weight of 3.78 = -11.903961277209484\n",
      "Using nearest age of 1.9169999999999998 for user provided age of 1.9\n",
      "Using british_1990 dataset\n",
      "Z-score for 1.9 years old male ofc of 43.5 = -5.032630312962828\n",
      "Using nearest age of 1.9169999999999998 for user provided age of 1.9\n",
      "Using british_1990 dataset\n",
      "Z-score for 1.9 years old male height of 55.7 = -9.97103729371841\n"
     ]
    },
    {
     "data": {
      "text/plain": [
       "-9.97103729371841"
      ]
     },
     "execution_count": 132,
     "metadata": {},
     "output_type": "execute_result"
    }
   ],
   "source": [
    "calculate_zscore('weight', 3.78, 'Male', 1.9, age_unit='years', dataset='british_1990', verbose=True)\n",
    "calculate_zscore('ofc', 43.5, 'Male', 1.9, age_unit='years', dataset='british_1990', verbose=True)\n",
    "calculate_zscore('height', 55.7, 'Male', 1.9, age_unit='years', dataset='british_1990', verbose=True)"
   ]
  },
  {
   "cell_type": "code",
   "execution_count": 153,
   "metadata": {},
   "outputs": [
    {
     "data": {
      "text/html": [
       "<div>\n",
       "<style scoped>\n",
       "    .dataframe tbody tr th:only-of-type {\n",
       "        vertical-align: middle;\n",
       "    }\n",
       "\n",
       "    .dataframe tbody tr th {\n",
       "        vertical-align: top;\n",
       "    }\n",
       "\n",
       "    .dataframe thead th {\n",
       "        text-align: right;\n",
       "    }\n",
       "</style>\n",
       "<table border=\"1\" class=\"dataframe\">\n",
       "  <thead>\n",
       "    <tr style=\"text-align: right;\">\n",
       "      <th></th>\n",
       "      <th>ID</th>\n",
       "      <th>weight</th>\n",
       "      <th>weight SD</th>\n",
       "      <th>ofc</th>\n",
       "      <th>ofc SD</th>\n",
       "      <th>height</th>\n",
       "      <th>height SD</th>\n",
       "      <th>Gender</th>\n",
       "      <th>Provided_Age</th>\n",
       "      <th>Provided_Age_Unit</th>\n",
       "      <th>Gestation</th>\n",
       "      <th>Age</th>\n",
       "      <th>Adjusted_age</th>\n",
       "      <th>Nearest_age_weight</th>\n",
       "      <th>Nearest_age_ofc</th>\n",
       "      <th>Nearest_age_height</th>\n",
       "    </tr>\n",
       "  </thead>\n",
       "  <tbody>\n",
       "    <tr>\n",
       "      <th>0</th>\n",
       "      <td>2099</td>\n",
       "      <td>0.740</td>\n",
       "      <td>-2.905970</td>\n",
       "      <td>25.0</td>\n",
       "      <td>-2.319476</td>\n",
       "      <td>34.0</td>\n",
       "      <td>-6.047049</td>\n",
       "      <td>female</td>\n",
       "      <td>0</td>\n",
       "      <td>years</td>\n",
       "      <td>30</td>\n",
       "      <td>0</td>\n",
       "      <td>-0.191781</td>\n",
       "      <td>-0.192</td>\n",
       "      <td>-0.192</td>\n",
       "      <td>-0.134</td>\n",
       "    </tr>\n",
       "    <tr>\n",
       "      <th>1</th>\n",
       "      <td>1802</td>\n",
       "      <td>0.990</td>\n",
       "      <td>-4.190948</td>\n",
       "      <td>28.0</td>\n",
       "      <td>-3.150480</td>\n",
       "      <td>38.0</td>\n",
       "      <td>-4.597291</td>\n",
       "      <td>male</td>\n",
       "      <td>0</td>\n",
       "      <td>years</td>\n",
       "      <td>35</td>\n",
       "      <td>0</td>\n",
       "      <td>-0.095890</td>\n",
       "      <td>-0.096</td>\n",
       "      <td>-0.096</td>\n",
       "      <td>-0.096</td>\n",
       "    </tr>\n",
       "    <tr>\n",
       "      <th>2</th>\n",
       "      <td>2331</td>\n",
       "      <td>1.640</td>\n",
       "      <td>-3.550393</td>\n",
       "      <td>29.0</td>\n",
       "      <td>-3.898471</td>\n",
       "      <td>40.5</td>\n",
       "      <td>-4.503896</td>\n",
       "      <td>male</td>\n",
       "      <td>0</td>\n",
       "      <td>years</td>\n",
       "      <td>38</td>\n",
       "      <td>0</td>\n",
       "      <td>-0.038356</td>\n",
       "      <td>-0.038</td>\n",
       "      <td>-0.038</td>\n",
       "      <td>-0.038</td>\n",
       "    </tr>\n",
       "    <tr>\n",
       "      <th>3</th>\n",
       "      <td>1904</td>\n",
       "      <td>1.480</td>\n",
       "      <td>-3.966885</td>\n",
       "      <td>32.0</td>\n",
       "      <td>-1.121053</td>\n",
       "      <td>40.0</td>\n",
       "      <td>-4.685821</td>\n",
       "      <td>female</td>\n",
       "      <td>0</td>\n",
       "      <td>years</td>\n",
       "      <td>38</td>\n",
       "      <td>0</td>\n",
       "      <td>-0.038356</td>\n",
       "      <td>-0.038</td>\n",
       "      <td>-0.038</td>\n",
       "      <td>-0.038</td>\n",
       "    </tr>\n",
       "    <tr>\n",
       "      <th>4</th>\n",
       "      <td>281376</td>\n",
       "      <td>1.956</td>\n",
       "      <td>-2.761720</td>\n",
       "      <td>NaN</td>\n",
       "      <td>NaN</td>\n",
       "      <td>NaN</td>\n",
       "      <td>NaN</td>\n",
       "      <td>male</td>\n",
       "      <td>0</td>\n",
       "      <td>years</td>\n",
       "      <td>38</td>\n",
       "      <td>0</td>\n",
       "      <td>-0.038356</td>\n",
       "      <td>-0.038</td>\n",
       "      <td>NaN</td>\n",
       "      <td>NaN</td>\n",
       "    </tr>\n",
       "  </tbody>\n",
       "</table>\n",
       "</div>"
      ],
      "text/plain": [
       "       ID  weight  weight SD   ofc    ofc SD  height  height SD  Gender  \\\n",
       "0    2099   0.740  -2.905970  25.0 -2.319476    34.0  -6.047049  female   \n",
       "1    1802   0.990  -4.190948  28.0 -3.150480    38.0  -4.597291    male   \n",
       "2    2331   1.640  -3.550393  29.0 -3.898471    40.5  -4.503896    male   \n",
       "3    1904   1.480  -3.966885  32.0 -1.121053    40.0  -4.685821  female   \n",
       "4  281376   1.956  -2.761720   NaN       NaN     NaN        NaN    male   \n",
       "\n",
       "   Provided_Age Provided_Age_Unit  Gestation  Age  Adjusted_age  \\\n",
       "0             0             years         30    0     -0.191781   \n",
       "1             0             years         35    0     -0.095890   \n",
       "2             0             years         38    0     -0.038356   \n",
       "3             0             years         38    0     -0.038356   \n",
       "4             0             years         38    0     -0.038356   \n",
       "\n",
       "   Nearest_age_weight  Nearest_age_ofc  Nearest_age_height  \n",
       "0              -0.192           -0.192              -0.134  \n",
       "1              -0.096           -0.096              -0.096  \n",
       "2              -0.038           -0.038              -0.038  \n",
       "3              -0.038           -0.038              -0.038  \n",
       "4              -0.038              NaN                 NaN  "
      ]
     },
     "execution_count": 153,
     "metadata": {},
     "output_type": "execute_result"
    }
   ],
   "source": [
    "prim1_prenatal = [dict(id=2099, gender='female', gestation=30, \n",
    "                       age=0, weight=0.74, ofc=25, height=34,),\n",
    "                  dict(id=1802, gender='male', gestation=35,\n",
    "                       age=0, weight=0.99, ofc=28, height=38,),\n",
    "                  dict(id=2331, gender='male', gestation=38,\n",
    "                       age=0, weight=1.64, ofc=29, height=40.5,),\n",
    "                  dict(id=1904, gender='female', gestation=38,\n",
    "                       age=0, weight=1.48, ofc=32, height=40,),\n",
    "                  dict(id=281376, gender='male', gestation=38,\n",
    "                       age=0, weight=1.956, ),\n",
    "                 ]\n",
    "prim1_postnatal = [\n",
    "                   dict(id=2099, gender='female', gestation=30,\n",
    "                        age=4.5, age_unit='months', weight=1.88, ofc=30, height=40,),\n",
    "                   dict(id=1802, gender='male', gestation=35,\n",
    "                        age=9, age_unit='months', weight=3.00, ofc=38, height=55,),\n",
    "                   dict(id=2331, gender='female', gestation=38,\n",
    "                        age=16, age_unit='months', weight=2.74, ofc=41, height=54,),\n",
    "                   dict(id=1904, gender='male', gestation=38,\n",
    "                        age=5, age_unit='years', weight=6.095, ofc=41, height=71,),\n",
    "                   dict(id=281376, gender='male', gestation=38,\n",
    "                        age=2.03, weight=3.78, ofc=43.5, height=55.7),\n",
    "                  ]\n",
    "zscore_cohort(prim1_prenatal)"
   ]
  },
  {
   "cell_type": "code",
   "execution_count": 154,
   "metadata": {},
   "outputs": [
    {
     "data": {
      "text/html": [
       "<div>\n",
       "<style scoped>\n",
       "    .dataframe tbody tr th:only-of-type {\n",
       "        vertical-align: middle;\n",
       "    }\n",
       "\n",
       "    .dataframe tbody tr th {\n",
       "        vertical-align: top;\n",
       "    }\n",
       "\n",
       "    .dataframe thead th {\n",
       "        text-align: right;\n",
       "    }\n",
       "</style>\n",
       "<table border=\"1\" class=\"dataframe\">\n",
       "  <thead>\n",
       "    <tr style=\"text-align: right;\">\n",
       "      <th></th>\n",
       "      <th>ID</th>\n",
       "      <th>weight</th>\n",
       "      <th>weight SD</th>\n",
       "      <th>ofc</th>\n",
       "      <th>ofc SD</th>\n",
       "      <th>height</th>\n",
       "      <th>height SD</th>\n",
       "      <th>Gender</th>\n",
       "      <th>Provided_Age</th>\n",
       "      <th>Provided_Age_Unit</th>\n",
       "      <th>Gestation</th>\n",
       "      <th>Age</th>\n",
       "      <th>Adjusted_age</th>\n",
       "      <th>Nearest_age_weight</th>\n",
       "      <th>Nearest_age_ofc</th>\n",
       "      <th>Nearest_age_height</th>\n",
       "    </tr>\n",
       "  </thead>\n",
       "  <tbody>\n",
       "    <tr>\n",
       "      <th>0</th>\n",
       "      <td>2099</td>\n",
       "      <td>0.740</td>\n",
       "      <td>-2.379896</td>\n",
       "      <td>25.0</td>\n",
       "      <td>-2.057502</td>\n",
       "      <td>34.0</td>\n",
       "      <td>-2.337822</td>\n",
       "      <td>female</td>\n",
       "      <td>0</td>\n",
       "      <td>years</td>\n",
       "      <td>30</td>\n",
       "      <td>0</td>\n",
       "      <td>-0.191781</td>\n",
       "      <td>-0.191650</td>\n",
       "      <td>-0.191650</td>\n",
       "      <td>-0.191650</td>\n",
       "    </tr>\n",
       "    <tr>\n",
       "      <th>1</th>\n",
       "      <td>1802</td>\n",
       "      <td>0.990</td>\n",
       "      <td>-3.771924</td>\n",
       "      <td>28.0</td>\n",
       "      <td>-2.936333</td>\n",
       "      <td>38.0</td>\n",
       "      <td>-3.420248</td>\n",
       "      <td>male</td>\n",
       "      <td>0</td>\n",
       "      <td>years</td>\n",
       "      <td>35</td>\n",
       "      <td>0</td>\n",
       "      <td>-0.095890</td>\n",
       "      <td>-0.095825</td>\n",
       "      <td>-0.095825</td>\n",
       "      <td>-0.095825</td>\n",
       "    </tr>\n",
       "    <tr>\n",
       "      <th>2</th>\n",
       "      <td>2331</td>\n",
       "      <td>1.640</td>\n",
       "      <td>-3.575514</td>\n",
       "      <td>29.0</td>\n",
       "      <td>-3.887131</td>\n",
       "      <td>40.5</td>\n",
       "      <td>-3.984647</td>\n",
       "      <td>male</td>\n",
       "      <td>0</td>\n",
       "      <td>years</td>\n",
       "      <td>38</td>\n",
       "      <td>0</td>\n",
       "      <td>-0.038356</td>\n",
       "      <td>-0.038330</td>\n",
       "      <td>-0.038330</td>\n",
       "      <td>-0.038330</td>\n",
       "    </tr>\n",
       "    <tr>\n",
       "      <th>3</th>\n",
       "      <td>1904</td>\n",
       "      <td>1.480</td>\n",
       "      <td>-4.116748</td>\n",
       "      <td>32.0</td>\n",
       "      <td>-1.201332</td>\n",
       "      <td>40.0</td>\n",
       "      <td>-4.385430</td>\n",
       "      <td>female</td>\n",
       "      <td>0</td>\n",
       "      <td>years</td>\n",
       "      <td>38</td>\n",
       "      <td>0</td>\n",
       "      <td>-0.038356</td>\n",
       "      <td>-0.038330</td>\n",
       "      <td>-0.038330</td>\n",
       "      <td>-0.038330</td>\n",
       "    </tr>\n",
       "    <tr>\n",
       "      <th>4</th>\n",
       "      <td>281376</td>\n",
       "      <td>1.956</td>\n",
       "      <td>-2.804786</td>\n",
       "      <td>NaN</td>\n",
       "      <td>NaN</td>\n",
       "      <td>NaN</td>\n",
       "      <td>NaN</td>\n",
       "      <td>male</td>\n",
       "      <td>0</td>\n",
       "      <td>years</td>\n",
       "      <td>38</td>\n",
       "      <td>0</td>\n",
       "      <td>-0.038356</td>\n",
       "      <td>-0.038330</td>\n",
       "      <td>NaN</td>\n",
       "      <td>NaN</td>\n",
       "    </tr>\n",
       "  </tbody>\n",
       "</table>\n",
       "</div>"
      ],
      "text/plain": [
       "       ID  weight  weight SD   ofc    ofc SD  height  height SD  Gender  \\\n",
       "0    2099   0.740  -2.379896  25.0 -2.057502    34.0  -2.337822  female   \n",
       "1    1802   0.990  -3.771924  28.0 -2.936333    38.0  -3.420248    male   \n",
       "2    2331   1.640  -3.575514  29.0 -3.887131    40.5  -3.984647    male   \n",
       "3    1904   1.480  -4.116748  32.0 -1.201332    40.0  -4.385430  female   \n",
       "4  281376   1.956  -2.804786   NaN       NaN     NaN        NaN    male   \n",
       "\n",
       "   Provided_Age Provided_Age_Unit  Gestation  Age  Adjusted_age  \\\n",
       "0             0             years         30    0     -0.191781   \n",
       "1             0             years         35    0     -0.095890   \n",
       "2             0             years         38    0     -0.038356   \n",
       "3             0             years         38    0     -0.038356   \n",
       "4             0             years         38    0     -0.038356   \n",
       "\n",
       "   Nearest_age_weight  Nearest_age_ofc  Nearest_age_height  \n",
       "0           -0.191650        -0.191650           -0.191650  \n",
       "1           -0.095825        -0.095825           -0.095825  \n",
       "2           -0.038330        -0.038330           -0.038330  \n",
       "3           -0.038330        -0.038330           -0.038330  \n",
       "4           -0.038330              NaN                 NaN  "
      ]
     },
     "execution_count": 154,
     "metadata": {},
     "output_type": "execute_result"
    }
   ],
   "source": [
    "zscore_cohort(prim1_prenatal, dataset='UK_WHO_preterm')"
   ]
  },
  {
   "cell_type": "code",
   "execution_count": 155,
   "metadata": {},
   "outputs": [
    {
     "data": {
      "text/html": [
       "<div>\n",
       "<style scoped>\n",
       "    .dataframe tbody tr th:only-of-type {\n",
       "        vertical-align: middle;\n",
       "    }\n",
       "\n",
       "    .dataframe tbody tr th {\n",
       "        vertical-align: top;\n",
       "    }\n",
       "\n",
       "    .dataframe thead th {\n",
       "        text-align: right;\n",
       "    }\n",
       "</style>\n",
       "<table border=\"1\" class=\"dataframe\">\n",
       "  <thead>\n",
       "    <tr style=\"text-align: right;\">\n",
       "      <th></th>\n",
       "      <th>ID</th>\n",
       "      <th>weight</th>\n",
       "      <th>weight SD</th>\n",
       "      <th>ofc</th>\n",
       "      <th>ofc SD</th>\n",
       "      <th>height</th>\n",
       "      <th>height SD</th>\n",
       "      <th>Gender</th>\n",
       "      <th>Provided_Age</th>\n",
       "      <th>Provided_Age_Unit</th>\n",
       "      <th>Gestation</th>\n",
       "      <th>Age</th>\n",
       "      <th>Adjusted_age</th>\n",
       "      <th>Nearest_age_weight</th>\n",
       "      <th>Nearest_age_ofc</th>\n",
       "      <th>Nearest_age_height</th>\n",
       "    </tr>\n",
       "  </thead>\n",
       "  <tbody>\n",
       "    <tr>\n",
       "      <th>0</th>\n",
       "      <td>2099</td>\n",
       "      <td>1.880</td>\n",
       "      <td>-6.819787</td>\n",
       "      <td>30.0</td>\n",
       "      <td>-7.412936</td>\n",
       "      <td>40.0</td>\n",
       "      <td>-8.494449</td>\n",
       "      <td>female</td>\n",
       "      <td>4.50</td>\n",
       "      <td>months</td>\n",
       "      <td>30</td>\n",
       "      <td>0.375000</td>\n",
       "      <td>0.183219</td>\n",
       "      <td>0.167</td>\n",
       "      <td>0.167</td>\n",
       "      <td>0.167</td>\n",
       "    </tr>\n",
       "    <tr>\n",
       "      <th>1</th>\n",
       "      <td>1802</td>\n",
       "      <td>3.000</td>\n",
       "      <td>-9.445522</td>\n",
       "      <td>38.0</td>\n",
       "      <td>-6.683390</td>\n",
       "      <td>55.0</td>\n",
       "      <td>-6.651637</td>\n",
       "      <td>male</td>\n",
       "      <td>9.00</td>\n",
       "      <td>months</td>\n",
       "      <td>35</td>\n",
       "      <td>0.750000</td>\n",
       "      <td>0.654110</td>\n",
       "      <td>0.667</td>\n",
       "      <td>0.667</td>\n",
       "      <td>0.667</td>\n",
       "    </tr>\n",
       "    <tr>\n",
       "      <th>2</th>\n",
       "      <td>2331</td>\n",
       "      <td>2.740</td>\n",
       "      <td>-14.167930</td>\n",
       "      <td>41.0</td>\n",
       "      <td>-5.550545</td>\n",
       "      <td>54.0</td>\n",
       "      <td>-9.160840</td>\n",
       "      <td>female</td>\n",
       "      <td>16.00</td>\n",
       "      <td>months</td>\n",
       "      <td>38</td>\n",
       "      <td>1.333333</td>\n",
       "      <td>1.294977</td>\n",
       "      <td>1.333</td>\n",
       "      <td>1.333</td>\n",
       "      <td>1.333</td>\n",
       "    </tr>\n",
       "    <tr>\n",
       "      <th>3</th>\n",
       "      <td>1904</td>\n",
       "      <td>6.095</td>\n",
       "      <td>-12.879988</td>\n",
       "      <td>41.0</td>\n",
       "      <td>-7.800512</td>\n",
       "      <td>71.0</td>\n",
       "      <td>-8.524102</td>\n",
       "      <td>male</td>\n",
       "      <td>5.00</td>\n",
       "      <td>years</td>\n",
       "      <td>38</td>\n",
       "      <td>5.000000</td>\n",
       "      <td>4.961644</td>\n",
       "      <td>5.000</td>\n",
       "      <td>5.000</td>\n",
       "      <td>5.000</td>\n",
       "    </tr>\n",
       "    <tr>\n",
       "      <th>4</th>\n",
       "      <td>281376</td>\n",
       "      <td>3.780</td>\n",
       "      <td>-12.106540</td>\n",
       "      <td>43.5</td>\n",
       "      <td>-5.107273</td>\n",
       "      <td>55.7</td>\n",
       "      <td>-10.067292</td>\n",
       "      <td>male</td>\n",
       "      <td>2.03</td>\n",
       "      <td>years</td>\n",
       "      <td>38</td>\n",
       "      <td>2.030000</td>\n",
       "      <td>1.991644</td>\n",
       "      <td>2.000</td>\n",
       "      <td>2.000</td>\n",
       "      <td>2.000</td>\n",
       "    </tr>\n",
       "  </tbody>\n",
       "</table>\n",
       "</div>"
      ],
      "text/plain": [
       "       ID  weight  weight SD   ofc    ofc SD  height  height SD  Gender  \\\n",
       "0    2099   1.880  -6.819787  30.0 -7.412936    40.0  -8.494449  female   \n",
       "1    1802   3.000  -9.445522  38.0 -6.683390    55.0  -6.651637    male   \n",
       "2    2331   2.740 -14.167930  41.0 -5.550545    54.0  -9.160840  female   \n",
       "3    1904   6.095 -12.879988  41.0 -7.800512    71.0  -8.524102    male   \n",
       "4  281376   3.780 -12.106540  43.5 -5.107273    55.7 -10.067292    male   \n",
       "\n",
       "   Provided_Age Provided_Age_Unit  Gestation       Age  Adjusted_age  \\\n",
       "0          4.50            months         30  0.375000      0.183219   \n",
       "1          9.00            months         35  0.750000      0.654110   \n",
       "2         16.00            months         38  1.333333      1.294977   \n",
       "3          5.00             years         38  5.000000      4.961644   \n",
       "4          2.03             years         38  2.030000      1.991644   \n",
       "\n",
       "   Nearest_age_weight  Nearest_age_ofc  Nearest_age_height  \n",
       "0               0.167            0.167               0.167  \n",
       "1               0.667            0.667               0.667  \n",
       "2               1.333            1.333               1.333  \n",
       "3               5.000            5.000               5.000  \n",
       "4               2.000            2.000               2.000  "
      ]
     },
     "execution_count": 155,
     "metadata": {},
     "output_type": "execute_result"
    }
   ],
   "source": [
    "zscore_cohort(prim1_postnatal)"
   ]
  },
  {
   "cell_type": "code",
   "execution_count": null,
   "metadata": {},
   "outputs": [],
   "source": []
  },
  {
   "cell_type": "code",
   "execution_count": null,
   "metadata": {},
   "outputs": [],
   "source": []
  }
 ],
 "metadata": {
  "kernelspec": {
   "display_name": "Python 3",
   "language": "python",
   "name": "python3"
  },
  "language_info": {
   "codemirror_mode": {
    "name": "ipython",
    "version": 3
   },
   "file_extension": ".py",
   "mimetype": "text/x-python",
   "name": "python",
   "nbconvert_exporter": "python",
   "pygments_lexer": "ipython3",
   "version": "3.5.3"
  }
 },
 "nbformat": 4,
 "nbformat_minor": 2
}
