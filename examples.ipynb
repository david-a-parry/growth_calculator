{
 "cells": [
  {
   "cell_type": "code",
   "execution_count": null,
   "metadata": {},
   "outputs": [],
   "source": [
    "from human_growth_calculator.growth_calculator import calculate_zscore, zscore_cohort"
   ]
  },
  {
   "cell_type": "code",
   "execution_count": null,
   "metadata": {},
   "outputs": [],
   "source": [
    "help(calculate_zscore)"
   ]
  },
  {
   "cell_type": "code",
   "execution_count": null,
   "metadata": {},
   "outputs": [],
   "source": [
    "calculate_zscore('weight', 0.926, 'Male', 0, age_unit='weeks', weeks_gestation=31,\n",
    "                 dataset='british_1990', verbose=True)"
   ]
  },
  {
   "cell_type": "code",
   "execution_count": null,
   "metadata": {},
   "outputs": [],
   "source": [
    "calculate_zscore('height', 35, 'Male', 3, age_unit='weeks', weeks_gestation=31,\n",
    "                 dataset='british_1990', verbose=True)"
   ]
  },
  {
   "cell_type": "code",
   "execution_count": null,
   "metadata": {},
   "outputs": [],
   "source": [
    "calculate_zscore('ofc', 26.6, 'Male', 0, age_unit='weeks', weeks_gestation=31,\n",
    "                 dataset='british_1990', verbose=True)"
   ]
  },
  {
   "cell_type": "code",
   "execution_count": null,
   "metadata": {},
   "outputs": [],
   "source": [
    "help(zscore_cohort)"
   ]
  },
  {
   "cell_type": "code",
   "execution_count": null,
   "metadata": {},
   "outputs": [],
   "source": [
    "prenatal = [dict(id=1, gender='female', gestation=30, \n",
    "                 age=0, weight=0.74, ofc=25, height=34,),\n",
    "            dict(id=2, gender='male', gestation=35,\n",
    "                 age=0, weight=0.99, ofc=28, height=38,),\n",
    "            dict(id=3, gender='male', gestation=38,\n",
    "                 age=0, weight=1.64, ofc=29, height=40.5,),\n",
    "            dict(id=4, gender='female', gestation=38,\n",
    "                 age=0, weight=1.48, ofc=32, height=40,),\n",
    "            dict(id=5, gender='male', gestation=38,\n",
    "                 age=0, weight=1.956, ),]\n",
    "zscore_cohort(prenatal)"
   ]
  },
  {
   "cell_type": "code",
   "execution_count": null,
   "metadata": {},
   "outputs": [],
   "source": [
    "postnatal = [dict(id=1, gender='female', gestation=30,\n",
    "                  age=4.5, age_unit='months', weight=1.88, ofc=30, height=40,),\n",
    "             dict(id=2, gender='male', gestation=35,\n",
    "                  age=9, age_unit='months', weight=3.00, ofc=38, height=55,),\n",
    "             dict(id=3, gender='female', gestation=38,\n",
    "                  age=16, age_unit='months', weight=2.74, ofc=41, height=54,),\n",
    "             dict(id=4, gender='male', gestation=38,\n",
    "                  age=5, age_unit='years', weight=6.095, ofc=41, height=71,),\n",
    "             dict(id=5, gender='male', gestation=38,\n",
    "                  age=2.03, weight=3.78, ofc=43.5, height=55.7),\n",
    "          ]\n",
    "zscore_cohort(postnatal)"
   ]
  },
  {
   "cell_type": "code",
   "execution_count": null,
   "metadata": {},
   "outputs": [],
   "source": [
    "zscore_cohort(prenatal).to_csv(\"test_data/pre.csv\", index=False)\n",
    "zscore_cohort(postnatal).to_csv(\"test_data/post.csv\", index=False)"
   ]
  },
  {
   "cell_type": "code",
   "execution_count": null,
   "metadata": {},
   "outputs": [],
   "source": [
    "import pandas as pd\n",
    "from pandas.testing import assert_frame_equal\n",
    "assert_frame_equal(zscore_cohort(postnatal), pd.read_csv(\"test_data/post.csv\"))"
   ]
  },
  {
   "cell_type": "code",
   "execution_count": null,
   "metadata": {},
   "outputs": [],
   "source": [
    "pd.read_csv(\"test_data/post.csv\", index_col=0)"
   ]
  },
  {
   "cell_type": "code",
   "execution_count": null,
   "metadata": {},
   "outputs": [],
   "source": []
  }
 ],
 "metadata": {
  "kernelspec": {
   "display_name": "Python 3 (ipykernel)",
   "language": "python",
   "name": "python3"
  },
  "language_info": {
   "codemirror_mode": {
    "name": "ipython",
    "version": 3
   },
   "file_extension": ".py",
   "mimetype": "text/x-python",
   "name": "python",
   "nbconvert_exporter": "python",
   "pygments_lexer": "ipython3",
   "version": "3.9.7"
  }
 },
 "nbformat": 4,
 "nbformat_minor": 2
}
